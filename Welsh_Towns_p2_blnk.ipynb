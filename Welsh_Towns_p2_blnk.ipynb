{
 "cells": [
  {
   "cell_type": "markdown",
   "metadata": {},
   "source": [
    "# <center>Capstone Project - The Battle of Neighbourhoods: Welsh Towns Review</center>\n",
    "## <center>Part 2 - Data Wrangling</center>\n",
    "### Applied Data Science Capstone by IBM\n",
    "### Part of our IBM Data Science Professional Certificate"
   ]
  },
  {
   "cell_type": "markdown",
   "metadata": {},
   "source": [
    "***"
   ]
  },
  {
   "cell_type": "markdown",
   "metadata": {},
   "source": [
    "## Table of contents\n",
    "* [The Problem](#section1)\n",
    "* [Data Wrangling](#section2)\n",
    "* [Mapping the data](#section3)\n",
    "    * [1. Analyse Welsh towns / localities data](#section4)\n",
    "    * [2. Analyse Welsh secondary schools data](#section5)\n",
    "    * [3. Property Prices](#section6)"
   ]
  },
  {
   "cell_type": "markdown",
   "metadata": {},
   "source": [
    "## The Problem <a name=\"section1\"></a>"
   ]
  },
  {
   "cell_type": "markdown",
   "metadata": {},
   "source": [
    "A couple with young children is looking for a safe and quiet place to live. For their children they want a good state school and for the family a small, but vibrant town. They would like either to settle in that town or very close. They are flexible in regards to the location because they both work from home with only occasional business travels to a city. But where to start? Where are the good schools and which towns could be nice to live in?"
   ]
  },
  {
   "cell_type": "markdown",
   "metadata": {},
   "source": [
    "## Data Wrangling<a name=\"section2\"></a>"
   ]
  },
  {
   "cell_type": "markdown",
   "metadata": {},
   "source": [
    "The notebook annotatde 'Part 1' dealt with the data collection. Summary of the saved data: <br>\n",
    "\n",
    "Description | File Name\n",
    "------------|----------\n",
    "Geolocated towns/localities in Wales (Population between 2,000 and 20,000): | `towns_geo.csv`\n",
    "List of rated secondary schools for wrangling and geolocating: | `schools_rated.csv`\n",
    "Geolocated and trimmed list of 'good' schools: | `schools_geo.csv`\n",
    ": | `.csv`"
   ]
  },
  {
   "cell_type": "markdown",
   "metadata": {},
   "source": [
    "Following the data collection described in the notbook 'Part 1', here we will deal with cleaning and analysing the data. The aim of this notebook is to learn about the data to provide a **solution** to the **problem**. The solution will be presented in the following \n",
    "notebook number 3. "
   ]
  },
  {
   "cell_type": "markdown",
   "metadata": {},
   "source": [
    "#### Import required libraries"
   ]
  },
  {
   "cell_type": "code",
   "execution_count": null,
   "metadata": {},
   "outputs": [],
   "source": [
    "import pandas as pd\n",
    "import numpy as np\n",
    "# from bs4 import BeautifulSoup # this module helps in web scrapping\n",
    "import requests  # this module helps us to download a web page\n",
    "import geocoder # import the geocoder\n",
    "from pandas.io.json import json_normalize # tranform JSON file into a pandas dataframe\n",
    "import folium # map rendering library"
   ]
  },
  {
   "cell_type": "code",
   "execution_count": null,
   "metadata": {},
   "outputs": [],
   "source": [
    "pd.set_option('display.max_columns', None)\n",
    "pd.set_option('display.max_rows', None)"
   ]
  },
  {
   "cell_type": "markdown",
   "metadata": {},
   "source": [
    "## Mapping the data<a name=\"section3\"></a>"
   ]
  },
  {
   "cell_type": "markdown",
   "metadata": {},
   "source": [
    "#### 1. Analyse Welsh towns / localities data<a name=\"section4\"></a>"
   ]
  },
  {
   "cell_type": "code",
   "execution_count": null,
   "metadata": {},
   "outputs": [],
   "source": [
    "towns = pd.read_csv('towns_geo.csv')\n",
    "towns.info()\n",
    "towns.head()"
   ]
  },
  {
   "cell_type": "markdown",
   "metadata": {},
   "source": [
    "In the previous notebook the data was trimmed on Population to 132 towns the population between 2,000 and 20,000. Thus we just need to plot the towns on the map."
   ]
  },
  {
   "cell_type": "code",
   "execution_count": null,
   "metadata": {},
   "outputs": [],
   "source": [
    "# Create a centre point coordinations for Wales using the mean lat-lon from the dataframe:\n",
    "lat = towns['Latitude'].mean()\n",
    "lon = towns['Longitude'].mean()\n",
    "print('Wales mean coordinates /lat - lon/: ',lat,' , ',lon)"
   ]
  },
  {
   "cell_type": "markdown",
   "metadata": {},
   "source": [
    "Visualise the points on interactive map using Folium package: <br>\n",
    "<a href=\"https://python-visualization.github.io/folium/\">python-visualization.github.io/folium</a> and <a href=\"https://leafletjs.com/reference-1.6.0.html#circlemarker\">leafletjs.com</a> for formatting."
   ]
  },
  {
   "cell_type": "code",
   "execution_count": null,
   "metadata": {},
   "outputs": [],
   "source": [
    "map_w = folium.Map(location=[lat, lon], zoom_start=7)\n",
    "\n",
    "# add markers to map\n",
    "for lat, lng, town, population in zip(towns['Latitude'], towns['Longitude'], towns['Town'], towns['Population']):\n",
    "    label = '{}'.format(str(town) + ' population: ' + str(population))\n",
    "    label = folium.Popup(label, parse_html=True)\n",
    "    folium.CircleMarker(\n",
    "        [lat, lng],\n",
    "        radius=5,\n",
    "        stroke=False,\n",
    "        popup=label,\n",
    "        color='blue',\n",
    "        fill=True,\n",
    "        fill_color='#3186cc',\n",
    "        fill_opacity=0.7,\n",
    "        parse_html=False).add_to(map_w)  \n",
    "    \n",
    "map_w"
   ]
  },
  {
   "cell_type": "markdown",
   "metadata": {},
   "source": [
    "The data looks pictured wellon the map, lets move on to the schools."
   ]
  },
  {
   "cell_type": "markdown",
   "metadata": {},
   "source": [
    "#### 2. Analyse Welsh secondary schools data<a name=\"section5\"></a>"
   ]
  },
  {
   "cell_type": "code",
   "execution_count": null,
   "metadata": {},
   "outputs": [],
   "source": [
    "df2 = pd.read_csv('schools_rated.csv')\n",
    "df2.info()\n",
    "df2.head()"
   ]
  },
  {
   "cell_type": "markdown",
   "metadata": {},
   "source": [
    "The table contain many columns, which we will not use, let's get rid of all aprt from:\n",
    "`['School_code', 'School_name', 'Local_authority', 'Rating', 'Postcode']`"
   ]
  },
  {
   "cell_type": "code",
   "execution_count": null,
   "metadata": {},
   "outputs": [],
   "source": [
    "df2.columns"
   ]
  },
  {
   "cell_type": "code",
   "execution_count": null,
   "metadata": {},
   "outputs": [],
   "source": [
    "df2 = df2.drop(['Consortium', 'School Name', 'LA Code', 'Local Authority', 'Sector',\n",
    "       'Governance - see notes', 'WM Code', 'Welsh Medium Type - see notes',\n",
    "       'School Type', 'Religious Character', 'Address 1', 'Address 2',\n",
    "       'Address 3', 'Address 4', 'Phone Number',\n",
    "       'Pupils - see notes'], axis = 1)\n",
    "df2.columns"
   ]
  },
  {
   "cell_type": "code",
   "execution_count": null,
   "metadata": {},
   "outputs": [],
   "source": [
    "df2.head(10)"
   ]
  },
  {
   "cell_type": "markdown",
   "metadata": {},
   "source": [
    "Trime the list to schools with green and amber support category by dropping rows with `Rating`: `Red/Coch` & `Amber/Oren`"
   ]
  },
  {
   "cell_type": "code",
   "execution_count": null,
   "metadata": {},
   "outputs": [],
   "source": [
    "index_rating = df2[(df2['Rating'] == 'Red/Coch')].index\n",
    "df2.drop(index_rating, inplace = True)\n",
    "\n",
    "index_rating = df2[(df2['Rating'] == 'Amber/Oren')].index\n",
    "df2.drop(index_rating, inplace = True)\n",
    "\n",
    "df2.info()\n",
    "df2.head(20)"
   ]
  },
  {
   "cell_type": "markdown",
   "metadata": {},
   "source": [
    "Now let's geocode the schools based on their postcode to plot on the map."
   ]
  },
  {
   "cell_type": "code",
   "execution_count": null,
   "metadata": {},
   "outputs": [],
   "source": [
    "# Define two empty lists to store the grid location data, one for latitude, one for longtitude:\n",
    "lati=[]\n",
    "longi=[]\n",
    "\n",
    "# Loop throught the postcodes to obtain goelocation. We use ArcGIS, becasuse google is not free anymore:\n",
    "for code in df2['Postcode']:\n",
    "    g = geocoder.arcgis('{}, Wales, UK'.format(code))\n",
    "    #print(code, g.latlng)\n",
    "    while (g.latlng is None):\n",
    "        g = geocoder.arcgis('{}, Wales, UK'.format(code))\n",
    "        #print(code, g.latlng)\n",
    "    latlng = g.latlng\n",
    "    lati.append(latlng[0])\n",
    "    longi.append(latlng[1])\n",
    "\n",
    "print('Coordination for ', df2.iloc[0,1], ' School: ', lati[0], ',', longi[0])\n",
    "\n",
    "# Append the coordinates to the dataframe\n",
    "df2['Latitude'] = lati\n",
    "df2['Longitude'] = longi\n",
    "\n",
    "# Check results:\n",
    "print(\"Table size: \", df2.shape)\n",
    "print(\"Type of data frame objects:\")\n",
    "df2.info()\n",
    "df2.head()"
   ]
  },
  {
   "cell_type": "code",
   "execution_count": null,
   "metadata": {},
   "outputs": [],
   "source": [
    "# save the results:\n",
    "#df2.to_csv('schools_geo.csv', index=False)"
   ]
  },
  {
   "cell_type": "code",
   "execution_count": null,
   "metadata": {},
   "outputs": [],
   "source": [
    "schools = pd.read_csv('schools_geo.csv')\n",
    "schools.info()\n",
    "schools.head()"
   ]
  },
  {
   "cell_type": "markdown",
   "metadata": {},
   "source": [
    "Add the 142 schools to above map using red markers"
   ]
  },
  {
   "cell_type": "code",
   "execution_count": null,
   "metadata": {},
   "outputs": [],
   "source": [
    "# add markers to map\n",
    "for lat_s, lng_s, school, rating in zip(schools['Latitude'], schools['Longitude'], schools['School_name'], schools['Rating']):\n",
    "    label = '{}'.format(str(school) + ' support category: ' + str(rating))\n",
    "    label = folium.Popup(label, parse_html=True)\n",
    "    folium.CircleMarker(\n",
    "        [lat_s, lng_s],\n",
    "        radius=2,\n",
    "        stroke=False,\n",
    "        popup=label,\n",
    "        color='red',\n",
    "        fill=True,\n",
    "        fill_color='red',\n",
    "        fill_opacity=0.7,\n",
    "        parse_html=False).add_to(map_w)  \n",
    "    \n",
    "map_w"
   ]
  },
  {
   "cell_type": "markdown",
   "metadata": {},
   "source": [
    "#### 3. Average property price in Wales per County<a name=\"section6\"></a>"
   ]
  },
  {
   "cell_type": "markdown",
   "metadata": {},
   "source": [
    "Load the average house prices:"
   ]
  },
  {
   "cell_type": "code",
   "execution_count": null,
   "metadata": {},
   "outputs": [],
   "source": [
    "counties = pd.read_csv('Prices_Wales.csv')\n",
    "counties.head()"
   ]
  },
  {
   "cell_type": "markdown",
   "metadata": {},
   "source": [
    "Create a plain map:"
   ]
  },
  {
   "cell_type": "code",
   "execution_count": null,
   "metadata": {},
   "outputs": [],
   "source": [
    "map_wc = folium.Map(location=[lat, lon], zoom_start=7, tiles='cartodbpositron')"
   ]
  },
  {
   "cell_type": "markdown",
   "metadata": {},
   "source": [
    "Define the location of the layer data with county boundaries: "
   ]
  },
  {
   "cell_type": "code",
   "execution_count": null,
   "metadata": {},
   "outputs": [],
   "source": [
    "# geo_data=\"http://geoportal1-ons.opendata.arcgis.com/datasets/687f346f5023410ba86615655ff33ca9_0.geojson\" # defines a link to the uk.gov page with the layer\n",
    "# The linked file has been downloaded and is available here in case the link is broken:\n",
    "geo_data = \"Counties_and_Unitary_Authorities_(December_2016)_Boundaries.geojson\" #there is also a csv file with the same name\n"
   ]
  },
  {
   "cell_type": "markdown",
   "metadata": {},
   "source": [
    "Format and plot the map:"
   ]
  },
  {
   "cell_type": "code",
   "execution_count": null,
   "metadata": {},
   "outputs": [],
   "source": [
    "# add tile layers to the map\n",
    "tiles = ['stamenwatercolor', 'cartodbpositron', 'openstreetmap', 'stamenterrain']\n",
    "for tile in tiles:\n",
    "    folium.TileLayer(tile).add_to(map_wc)\n",
    "\n",
    "# Add the counties Choropleth:\n",
    "\n",
    "choropleth = folium.Choropleth(\n",
    "    geo_data,\n",
    "    data=counties, # my dataset with prices\n",
    "    columns=['County', 'Ave_price_2021'], # 'County' is here for matching the geojson 'ctyua16nm', 'Ave_price_2021' is the column that changes the color of zipcode areas\n",
    "    key_on='feature.properties.ctyua16nm', # this path contains counties in str type and should match with our 'County column\n",
    "    fill_color='BuPu',\n",
    "    fill_opacity=0.4,\n",
    "    line_color= 'None',\n",
    "    legend_name='Average Property Price, Wales 2021',\n",
    "    nan_fill_color = 'None'\n",
    ").add_to(map_wc)\n",
    "\n",
    "# add labels indicating the name of the county\n",
    "style_function = \"font-size: 10px; font-weight: normal\"\n",
    "choropleth.geojson.add_child(\n",
    "    folium.features.GeoJsonTooltip(['ctyua16nm'], style=style_function, labels=False)\n",
    ")\n",
    "    \n",
    "# create a layer control\n",
    "folium.LayerControl().add_to(map_wc)\n",
    "\n",
    "map_wc"
   ]
  },
  {
   "cell_type": "markdown",
   "metadata": {},
   "source": [
    "This concludes the data wrangling section"
   ]
  },
  {
   "cell_type": "code",
   "execution_count": null,
   "metadata": {},
   "outputs": [],
   "source": []
  }
 ],
 "metadata": {
  "kernelspec": {
   "display_name": "Python 3",
   "language": "python",
   "name": "python3"
  },
  "language_info": {
   "codemirror_mode": {
    "name": "ipython",
    "version": 3
   },
   "file_extension": ".py",
   "mimetype": "text/x-python",
   "name": "python",
   "nbconvert_exporter": "python",
   "pygments_lexer": "ipython3",
   "version": "3.8.5"
  }
 },
 "nbformat": 4,
 "nbformat_minor": 4
}
